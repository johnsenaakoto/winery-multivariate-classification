{
 "cells": [
  {
   "cell_type": "markdown",
   "metadata": {},
   "source": [
    "# Winery classification with the multivariate Gaussian"
   ]
  },
  {
   "cell_type": "markdown",
   "metadata": {},
   "source": [
    "In thos notebook, I am going to classify wines using 13 features. There are 178 wines with corresponding 13 features. We are going to classify each wine based on which winery it was made from. There are 3 wineries/classes/label. I will divide this into a training set of 130 points and a test set of 48 points."
   ]
  },
  {
   "cell_type": "code",
   "execution_count": null,
   "metadata": {},
   "outputs": [],
   "source": [
    "%matplotlib inline\n",
    "import numpy as np\n",
    "import matplotlib.pyplot as plt\n",
    "from scipy.stats import norm, multivariate_normal"
   ]
  },
  {
   "cell_type": "code",
   "execution_count": 9,
   "metadata": {},
   "outputs": [],
   "source": [
    "# Load data set.\n",
    "data = np.loadtxt('wine.data.txt', delimiter=',')\n",
    "featurenames = ['Alcohol', 'Malic acid', 'Ash', 'Alcalinity of ash','Magnesium', 'Total phenols', \n",
    "                'Flavanoids', 'Nonflavanoid phenols', 'Proanthocyanins', 'Color intensity', 'Hue', \n",
    "                'OD280/OD315 of diluted wines', 'Proline']\n",
    "\n",
    "features=[0,1,2,3,4,5,6,7,8,9,10,11,12]\n",
    "\n",
    "# Split 178 instances into training set (trainx, trainy) of size 130 and test set (testx, testy) of size 48\n",
    "np.random.seed(0)\n",
    "perm = np.random.permutation(178)\n",
    "trainx = data[perm[0:130],1:14]\n",
    "trainy = data[perm[0:130],0]\n",
    "testx = data[perm[130:178], 1:14]\n",
    "testy = data[perm[130:178],0]"
   ]
  },
  {
   "cell_type": "code",
   "execution_count": 10,
   "metadata": {},
   "outputs": [],
   "source": [
    "def fit_generative_model(x,y):\n",
    "    k=3  # labels 1,2,...,k\n",
    "    d=(x.shape)[1]  # number of features\n",
    "    mu=np.zeros((k+1,d))\n",
    "    sigma=np.zeros((k+1,d,d))\n",
    "    pi=np.zeros(k+1)\n",
    "    \n",
    "    for label in range(1,k+1):\n",
    "        indices = (y==label)\n",
    "        mu[label] = np.mean(x[indices,:], axis=0)\n",
    "        sigma[label] = np.cov(x[indices,:], rowvar=0, bias=1)\n",
    "        pi[label] = float(sum(indices))/float(len(y))\n",
    "    return mu, sigma, pi"
   ]
  },
  {
   "cell_type": "code",
   "execution_count": 11,
   "metadata": {},
   "outputs": [],
   "source": [
    "# Fit a Gaussian generative model to the training data\n",
    "mu, sigma, pi = fit_generative_model(trainx, trainy)"
   ]
  },
  {
   "cell_type": "code",
   "execution_count": 17,
   "metadata": {},
   "outputs": [],
   "source": [
    "# This function returns predictions for each wine in the test data and computes the errors\n",
    "def test_model(mu, sigma, pi, features, testx, testy):\n",
    "    n_test=len(testx)\n",
    "    score=np.zeros((n_test,4))\n",
    "    \n",
    "    for i in range(0,n_test):\n",
    "        for label in range(1,4):\n",
    "            score[i,label]=np.log(pi[label])+ \\\n",
    "            multivariate_normal.logpdf(testx[i,features], mean=mu[label,:],cov=sigma[label,:,:])\n",
    "    \n",
    "    \n",
    "    predictions=np.argmax(score[:,1:4], axis=1)+1\n",
    "        \n",
    "    errors = np.sum(predictions!=testy)\n",
    "    percent_error=errors/n_test*100\n",
    "    print(\"Errors: \" + str(errors) + \"/\" + str(n_test))\n",
    "    print(percent_error)\n",
    "    \n",
    "    return(predictions, percent_error)\n",
    "                                  \n",
    "                                  \n",
    "    "
   ]
  },
  {
   "cell_type": "code",
   "execution_count": 18,
   "metadata": {},
   "outputs": [
    {
     "name": "stdout",
     "output_type": "stream",
     "text": [
      "Errors: 2/48\n",
      "4.166666666666666\n"
     ]
    }
   ],
   "source": [
    "predictions, percent_error = test_model(mu, sigma, pi, features, testx, testy)"
   ]
  },
  {
   "cell_type": "code",
   "execution_count": null,
   "metadata": {},
   "outputs": [],
   "source": []
  }
 ],
 "metadata": {
  "kernelspec": {
   "display_name": "Python 3",
   "language": "python",
   "name": "python3"
  },
  "language_info": {
   "codemirror_mode": {
    "name": "ipython",
    "version": 3
   },
   "file_extension": ".py",
   "mimetype": "text/x-python",
   "name": "python",
   "nbconvert_exporter": "python",
   "pygments_lexer": "ipython3",
   "version": "3.7.3"
  }
 },
 "nbformat": 4,
 "nbformat_minor": 2
}
